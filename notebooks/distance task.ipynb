{
 "cells": [
  {
   "cell_type": "code",
   "execution_count": 95,
   "metadata": {},
   "outputs": [],
   "source": [
    "import sys\n",
    "import os\n",
    "sys.path.append(\"../src/api/\")\n",
    "\n",
    "import json\n",
    "import redis\n",
    "import operator\n",
    "from collections import OrderedDict\n",
    "\n",
    "REDIS=redis.StrictRedis(db=2)\n",
    "SAMPLES_KEY=\"samples\"\n",
    "INTERMEDIATE_RESULT_EXPIRY=300\n",
    "def sort_and_filter_distance_dict(d, limit):\n",
    "    sorted_d = sorted(d.items(), key=operator.itemgetter(1))\n",
    "    if limit:\n",
    "        sorted_d=sorted_d[:limit]\n",
    "    return OrderedDict(sorted_d)\n",
    "\n",
    "\n",
    "\n",
    "\n",
    "class DistanceTaskManager():\n",
    "\n",
    "    def __init__(self, redis=REDIS, expiry=INTERMEDIATE_RESULT_EXPIRY):\n",
    "        self.redis=redis   \n",
    "        self.expiry=expiry             \n",
    "        self.samples=self.__get_samples()\n",
    "\n",
    "    def __get_samples(self):\n",
    "        return {s.decode(\"utf-8\") for s in self.redis.smembers(SAMPLES_KEY)}\n",
    "\n",
    "    def __intermediate_key(self, s1, s2):\n",
    "        return \"_\".join([str(s1),\"xor\",str(s2)])\n",
    "\n",
    "    def __genotype_bitarray_key(self,sample_id):\n",
    "        return \"_\".join([sample_id, \"genotypes\"])        \n",
    "\n",
    "    def _build_xor(self, primary_sample, samples):\n",
    "        primary_sample_key=self.__genotype_bitarray_key(primary_sample)\n",
    "        pipe=self.redis.pipeline()\n",
    "        for secondary_sample in samples:\n",
    "            secondary_sample_key=self.__genotype_bitarray_key(secondary_sample)\n",
    "            k=self.__intermediate_key(primary_sample,secondary_sample)                    \n",
    "            if secondary_sample != primary_sample:\n",
    "                pipe.bitop(\"xor\",k,primary_sample_key,secondary_sample_key)\n",
    "                pipe.expire(k, self.expiry)\n",
    "        pipe.execute()\n",
    "\n",
    "    def _count_xor(self, primary_sample, samples):\n",
    "        samples=[s for s in samples if  s != primary_sample]\n",
    "        pipe=self.redis.pipeline()\n",
    "        for secondary_sample in samples:\n",
    "            k=self.__intermediate_key(primary_sample,secondary_sample)        \n",
    "            if secondary_sample != primary_sample:\n",
    "                pipe.bitcount(self.__intermediate_key(primary_sample,secondary_sample))\n",
    "        res=pipe.execute()\n",
    "        d={}\n",
    "        for q,diff in zip(samples, res):\n",
    "            d[q]=diff\n",
    "        return d    \n",
    "\n",
    "    def distance(self, primary_sample, samples=None, limit=None, sort=True):\n",
    "        if samples is None:\n",
    "            samples=self.__get_samples()\n",
    "        if limit is not None:\n",
    "            sort = True\n",
    "        self._build_xor(primary_sample, samples)\n",
    "        distances = self._count_xor(primary_sample, samples)\n",
    "        if sort:\n",
    "            distances=sort_and_filter_distance_dict(distances, limit)\n",
    "        return distances\n",
    "\n",
    "    ## Insert\n",
    "    def _add_sample(self, sample_id):\n",
    "        self.redis.sadd(SAMPLES_KEY, sample_id)\n",
    "\n",
    "    def insert(self, json_path):\n",
    "        with open(json_path, 'r') as inf:\n",
    "            res=json.load(inf)\n",
    "        for sample_id,data in res.items():\n",
    "            self._add_sample(sample_id)\n",
    "            genotypes = self._create_genotype_bitarray(data[\"genotypes\"])\n",
    "            passed_filter = self._create_filtered_bitarray(data[\"filtered\"])\n",
    "            filtered_genotypes=[x for i,x in enumerate(genotypes) if passed_filter[i]]\n",
    "            self._insert_genotype_bitarray(filtered_genotypes, sample_id=sample_id)\n",
    "\n",
    "    def _insert_genotype_bitarray(self, bitarray, sample_id):\n",
    "        pipe = self.redis.pipeline()\n",
    "        for i, j in enumerate(bitarray):\n",
    "            pipe.setbit(self.__genotype_bitarray_key(sample_id), i, j)\n",
    "        pipe.execute()    \n",
    "\n",
    "    def _create_genotype_bitarray(self, sorted_calls):\n",
    "        bitarray = [int(call > 1) for call in sorted_calls]\n",
    "        return bitarray\n",
    "\n",
    "    def _create_filtered_bitarray(self, sorted_calls):\n",
    "        return sorted_calls    \n",
    "\n",
    "\n"
   ]
  },
  {
   "cell_type": "code",
   "execution_count": 96,
   "metadata": {},
   "outputs": [],
   "source": [
    "dt=DistanceTaskManager()"
   ]
  },
  {
   "cell_type": "code",
   "execution_count": 97,
   "metadata": {},
   "outputs": [],
   "source": [
    "dt.insert(\"/Users/phelimb/git/mykrobe-atlas-cli/src/mykrobe/data/gt.json\")\n",
    "dt.insert(\"/Users/phelimb/git/mykrobe-atlas-cli/src/mykrobe/data/gt2.json\")"
   ]
  },
  {
   "cell_type": "code",
   "execution_count": 98,
   "metadata": {},
   "outputs": [
    {
     "data": {
      "text/plain": [
       "OrderedDict([('test2', 3),\n",
       "             ('0', 632),\n",
       "             ('8', 632),\n",
       "             ('1', 632),\n",
       "             ('7', 632),\n",
       "             ('9', 632),\n",
       "             ('3', 632),\n",
       "             ('5', 632),\n",
       "             ('4', 632),\n",
       "             ('6', 632),\n",
       "             ('2', 632)])"
      ]
     },
     "execution_count": 98,
     "metadata": {},
     "output_type": "execute_result"
    }
   ],
   "source": [
    "dt.distance(\"test\")"
   ]
  },
  {
   "cell_type": "code",
   "execution_count": 113,
   "metadata": {},
   "outputs": [],
   "source": [
    "from Bio import Phylo\n"
   ]
  },
  {
   "cell_type": "code",
   "execution_count": 114,
   "metadata": {},
   "outputs": [],
   "source": [
    "trees = Phylo.parse('/Users/phelimb/git/mykrobe-atlas-cli/src/api/data/tb_newick.txt', 'newick')"
   ]
  },
  {
   "cell_type": "code",
   "execution_count": 115,
   "metadata": {},
   "outputs": [],
   "source": [
    "tree=trees.__next__()"
   ]
  },
  {
   "cell_type": "code",
   "execution_count": 116,
   "metadata": {},
   "outputs": [],
   "source": [
    "dir(tree)\n",
    "tree_samples=[c.name for c in tree.get_terminals()]"
   ]
  },
  {
   "cell_type": "code",
   "execution_count": null,
   "metadata": {},
   "outputs": [],
   "source": []
  }
 ],
 "metadata": {
  "kernelspec": {
   "display_name": "Python 3",
   "language": "python",
   "name": "python3"
  },
  "language_info": {
   "codemirror_mode": {
    "name": "ipython",
    "version": 3
   },
   "file_extension": ".py",
   "mimetype": "text/x-python",
   "name": "python",
   "nbconvert_exporter": "python",
   "pygments_lexer": "ipython3",
   "version": "3.6.0"
  }
 },
 "nbformat": 4,
 "nbformat_minor": 2
}
