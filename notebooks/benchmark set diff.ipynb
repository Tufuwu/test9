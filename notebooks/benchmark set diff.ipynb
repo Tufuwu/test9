{
 "cells": [
  {
   "cell_type": "code",
   "execution_count": 1,
   "metadata": {
    "collapsed": true
   },
   "outputs": [],
   "source": [
    "import redis\n"
   ]
  },
  {
   "cell_type": "code",
   "execution_count": 2,
   "metadata": {
    "collapsed": true
   },
   "outputs": [],
   "source": [
    "r1=redis.StrictRedis(db=1)\n",
    "r2=redis.StrictRedis(db=2)\n",
    "\n",
    "N=10"
   ]
  },
  {
   "cell_type": "code",
   "execution_count": 11,
   "metadata": {},
   "outputs": [
    {
     "name": "stdout",
     "output_type": "stream",
     "text": [
      "0\n"
     ]
    }
   ],
   "source": [
    "import random\n",
    "\n",
    "def random_variant():\n",
    "#     r=random.sample([\"A\",\"T\",\"C\",\"G\"],1)[0]\n",
    "    r=\"A\"\n",
    "    a=random.sample([\"A\",\"T\",\"C\",\"G\"],1)[0]\n",
    "    pos=random.randint(0,100000)\n",
    "    v= \"{ref}{pos}{alt}\".format(ref=r,pos=pos,alt=a)\n",
    "    return v\n",
    "\n",
    "def generate_variant_set():\n",
    "    n=random.randint(1000,10000)\n",
    "    vars=set()\n",
    "    for i in range(n):\n",
    "        v=random_variant()\n",
    "        vars.add(v)\n",
    "    return vars\n",
    "sample_to_variants={}\n",
    "for s in range(N):\n",
    "    if (s % 100)==0:\n",
    "        print(s)\n",
    "    sample_to_variants[s]=generate_variant_set()\n"
   ]
  },
  {
   "cell_type": "code",
   "execution_count": 12,
   "metadata": {},
   "outputs": [
    {
     "name": "stdout",
     "output_type": "stream",
     "text": [
      "CPU times: user 5 µs, sys: 4 µs, total: 9 µs\n",
      "Wall time: 6.91 µs\n"
     ]
    }
   ],
   "source": [
    "%%time\n",
    "def insert(s,variants,r=r1):\n",
    "    pipe=r.pipeline()\n",
    "    for v in variants:\n",
    "        pipe.sadd(s,v)\n",
    "    pipe.execute()"
   ]
  },
  {
   "cell_type": "code",
   "execution_count": 19,
   "metadata": {},
   "outputs": [
    {
     "name": "stdout",
     "output_type": "stream",
     "text": [
      "59579\n",
      "0\n",
      "1\n",
      "2\n",
      "3\n",
      "4\n",
      "5\n",
      "6\n",
      "7\n",
      "8\n",
      "9\n",
      "CPU times: user 6.43 s, sys: 851 ms, total: 7.28 s\n",
      "Wall time: 8.68 s\n"
     ]
    }
   ],
   "source": [
    "%%time\n",
    "\n",
    "def insert_variants(variants, unique=True,r=r2):\n",
    "    if unique:\n",
    "        pipe=r.pipeline()\n",
    "        for v in variants:\n",
    "            i=r.incr(\"num_variants\")\n",
    "            pipe.hset(\"variants\",v,i)               \n",
    "        pipe.execute()\n",
    "    else:\n",
    "        for v in variants:\n",
    "            if r.hexists(\"variants\",v):\n",
    "                i=r.hget(\"variants\", v)\n",
    "            else:\n",
    "                i=r.incr(\"num_variants\")\n",
    "                r.hset(\"variants\",v,i)        \n",
    "    \n",
    "def insert2(s,variants,r=r2):\n",
    "    r.sadd(\"samples\",s)\n",
    "    print(s)\n",
    "    pipe=r.pipeline()\n",
    "    for v in variants:\n",
    "        pipe.hget(\"variants\", v)\n",
    "    res=pipe.execute()\n",
    "    indexes=res\n",
    "    pipe=r.pipeline()\n",
    "    for i in indexes:\n",
    "        pipe.setbit(s,i,1)\n",
    "    pipe.execute()\n",
    "        \n",
    "#     pipe=r.pipeline()\n",
    "#     for v in variants:\n",
    "#         pipe.sadd(s,v)\n",
    "#     pipe.execute()\n",
    "r1.flushall()\n",
    "r2.flushall()\n",
    "\n",
    "# insert2(1,sample_to_variants[1])\n",
    "all_variants=set()\n",
    "for sample,variants in sample_to_variants.items():\n",
    "    all_variants.update(variants)\n",
    "print(len(all_variants))\n",
    "insert_variants(all_variants)\n",
    "for sample,variants in sample_to_variants.items():\n",
    "    insert2(sample,variants)\n",
    "    insert(sample,variants)    "
   ]
  },
  {
   "cell_type": "code",
   "execution_count": 14,
   "metadata": {},
   "outputs": [
    {
     "name": "stdout",
     "output_type": "stream",
     "text": [
      "CPU times: user 16 µs, sys: 1e+03 ns, total: 17 µs\n",
      "Wall time: 21.9 µs\n"
     ]
    }
   ],
   "source": [
    "%%time\n",
    "def distance(sample,r=r1):\n",
    "    d={}\n",
    "    for query_sample in range(N):\n",
    "        if query_sample != sample:\n",
    "            s1=r.sdiff(sample,query_sample)\n",
    "            s2=r.sdiff(query_sample,sample)\n",
    "            d[query_sample]=len(s1.union(s2))    \n",
    "    return d\n",
    "# distance(1)    \n",
    "\n",
    "def distance2(sample,r=r2):\n",
    "    pipe=r.pipeline()\n",
    "    for query_sample in range(N):\n",
    "        if query_sample != sample:\n",
    "            pipe.bitop(\"xor\",\"_\".join([str(sample),str(query_sample)]),sample,query_sample)\n",
    "    pipe.execute()\n",
    "    \n",
    "    pipe=r.pipeline()\n",
    "    for query_sample in range(N):\n",
    "        if query_sample != sample:\n",
    "            pipe.bitcount(\"_\".join([str(sample),str(query_sample)]))\n",
    "    res=pipe.execute()\n",
    "\n",
    "    d={}\n",
    "    for q,diff in zip(range(N),res):\n",
    "        d[q]=diff\n",
    "    \n",
    "    return (d)\n",
    "\n",
    "def distance3(sample):\n",
    "    d={}\n",
    "    for query_sample,variants in sample_to_variants.items():\n",
    "        if query_sample != sample:\n",
    "            d[query_sample]=len(sample_to_variants[sample].symmetric_difference(variants))\n",
    "    return d\n",
    "            "
   ]
  },
  {
   "cell_type": "code",
   "execution_count": 15,
   "metadata": {},
   "outputs": [
    {
     "name": "stdout",
     "output_type": "stream",
     "text": [
      "CPU times: user 469 ms, sys: 6.64 ms, total: 475 ms\n",
      "Wall time: 609 ms\n"
     ]
    }
   ],
   "source": [
    "%%time\n",
    "result=distance(1)  "
   ]
  },
  {
   "cell_type": "code",
   "execution_count": 16,
   "metadata": {},
   "outputs": [
    {
     "name": "stdout",
     "output_type": "stream",
     "text": [
      "CPU times: user 867 µs, sys: 856 µs, total: 1.72 ms\n",
      "Wall time: 1.14 ms\n"
     ]
    }
   ],
   "source": [
    "%%time\n",
    "result=distance2(1)"
   ]
  },
  {
   "cell_type": "code",
   "execution_count": 17,
   "metadata": {},
   "outputs": [
    {
     "name": "stdout",
     "output_type": "stream",
     "text": [
      "CPU times: user 17.1 ms, sys: 552 µs, total: 17.6 ms\n",
      "Wall time: 32.6 ms\n"
     ]
    }
   ],
   "source": [
    "%%time\n",
    "result=distance3(1)"
   ]
  },
  {
   "cell_type": "code",
   "execution_count": 18,
   "metadata": {},
   "outputs": [
    {
     "name": "stdout",
     "output_type": "stream",
     "text": [
      "{0: 15457, 2: 11196, 3: 16134, 4: 15530, 5: 7639, 6: 12188, 7: 8344, 8: 16005, 9: 12956}\n",
      "{0: 18431, 1: 16134, 2: 14178, 3: 18474, 4: 10721, 5: 15168, 6: 11388, 7: 18965, 8: 15946}\n",
      "{0: 15457, 2: 11196, 3: 16134, 4: 15530, 5: 7639, 6: 12188, 7: 8344, 8: 16005, 9: 12956}\n"
     ]
    }
   ],
   "source": [
    "print(distance(1))\n",
    "print(distance2(3))\n",
    "print(distance3(1))"
   ]
  },
  {
   "cell_type": "code",
   "execution_count": null,
   "metadata": {
    "collapsed": true
   },
   "outputs": [],
   "source": []
  },
  {
   "cell_type": "code",
   "execution_count": null,
   "metadata": {
    "collapsed": true
   },
   "outputs": [],
   "source": []
  },
  {
   "cell_type": "code",
   "execution_count": null,
   "metadata": {
    "collapsed": true
   },
   "outputs": [],
   "source": []
  }
 ],
 "metadata": {
  "kernelspec": {
   "display_name": "Python 2",
   "language": "python",
   "name": "python2"
  },
  "language_info": {
   "codemirror_mode": {
    "name": "ipython",
    "version": 2
   },
   "file_extension": ".py",
   "mimetype": "text/x-python",
   "name": "python",
   "nbconvert_exporter": "python",
   "pygments_lexer": "ipython2",
   "version": "2.7.13"
  }
 },
 "nbformat": 4,
 "nbformat_minor": 2
}
